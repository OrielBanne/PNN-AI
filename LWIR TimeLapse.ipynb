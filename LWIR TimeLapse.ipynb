{
 "cells": [
  {
   "cell_type": "code",
   "execution_count": 1,
   "metadata": {},
   "outputs": [],
   "source": [
    "#conda install opencv"
   ]
  },
  {
   "cell_type": "code",
   "execution_count": 2,
   "metadata": {},
   "outputs": [],
   "source": [
    "import cv2\n",
    "import numpy as np\n",
    "import glob\n",
    "import os\n",
    "from glob import glob\n",
    "\n",
    "from matplotlib import pyplot as plt\n",
    "%matplotlib inline"
   ]
  },
  {
   "cell_type": "code",
   "execution_count": 3,
   "metadata": {},
   "outputs": [],
   "source": [
    "#pwd   =  Parent working directory\n",
    "experiment ='Exp4'\n",
    "modality = 'Color'      #modalities = ['Boson', '577nm', '732nm', '970nm','692nm','polar','color']\n",
    "pattern   = '*'+modality+'*.jpg'\n",
    "# pattern   = '*'+modality+'*.tiff'\n",
    "start_dir = '/home/pnn/experiments/'+experiment+'/'"
   ]
  },
  {
   "cell_type": "code",
   "execution_count": 4,
   "metadata": {},
   "outputs": [
    {
     "name": "stdout",
     "output_type": "stream",
     "text": [
      "['/home/pnn/experiments/Exp4/2020_06_08_14_40_37_RGB_RS_Day/2020_06_08_14_40_46_DS5_4160_3120_Rgb8_Color_AE200.jpg', '/home/pnn/experiments/Exp4/2020_06_08_14_50_33_RGB_RS_Day/2020_06_08_14_50_41_DS5_4160_3120_Rgb8_Color_AE200.jpg', '/home/pnn/experiments/Exp4/2020_06_08_15_02_08_RGB_RS_Day/2020_06_08_15_02_15_DS5_4160_3120_Rgb8_Color_AE200.jpg', '/home/pnn/experiments/Exp4/2020_06_08_15_10_33_RGB_RS_Day/2020_06_08_15_10_40_DS5_4160_3120_Rgb8_Color_AE200.jpg', '/home/pnn/experiments/Exp4/2020_06_08_15_20_32_RGB_RS_Day/2020_06_08_15_20_40_DS5_4160_3120_Rgb8_Color_AE200.jpg']\n"
     ]
    }
   ],
   "source": [
    "#finding files in subdirectories: \n",
    "\n",
    "files = []\n",
    "# start_dir = os.getcwd()\n",
    "\n",
    "for dir,_,_ in os.walk(start_dir):\n",
    "    files.extend(glob(os.path.join(dir,pattern)))\n",
    "    \n",
    "    #arrange files by date\n",
    "files.sort()\n",
    "print(files[0:5])\n"
   ]
  },
  {
   "cell_type": "code",
   "execution_count": null,
   "metadata": {},
   "outputs": [],
   "source": [
    "\n",
    "\n",
    "# parameters for Text writting \n",
    "\n",
    "font                   = cv2.FONT_HERSHEY_SIMPLEX\n",
    "Tposition              = (20,20)\n",
    "fontScale              = 0.7\n",
    "fontColor              = (48,54,141)\n",
    "lineType               = 2\n",
    "\n",
    "mini, maxi = 100, 150\n",
    "\n",
    "img_array = []\n",
    "\n",
    "\n",
    "# # SAVING RGB CROPPED IMAGEs AND CREATING MOVIE\n",
    "\n",
    "# # For color :\n",
    "# x = 720  # --->3084 ---> w = 2464\n",
    "# y = 805  # --->2115 ---> h = 1725\n",
    "# w = 2464\n",
    "# h = 1800\n",
    "\n",
    "# POR Movie Creation:\n",
    "for file in files: \n",
    "    img = cv2.imread(file)\n",
    "    try:\n",
    "#         crop_img = img[y:y+h, x:x+w]\n",
    "#         img = crop_img\n",
    "#         cc = 97\n",
    "#         cropped_file = file[:cc]+'Cropped'+file[cc+5:]\n",
    "#         cv2.imwrite(cropped_file,img)\n",
    "        \n",
    "        subTextTime = file.split(\"/\")\n",
    "        cv2.putText(img,subTextTime[5],Tposition,font,fontScale,fontColor,lineType)\n",
    "        img_array.append(img)# Creating the movie\n",
    "#         plt.imshow(crop_img)\n",
    "    except:\n",
    "        print(file, 'has no info')\n",
    "\n",
    "    \n",
    "# Atttempting Normalization    \n",
    "#for file in files: \n",
    "#    img = cv2.imread(file)\n",
    "#    npic = (255 * (img - mini) / (maxi - mini))  # Normalization ri = int(255 * (r - rmin) / (rmax - rmin) )\n",
    "#    \n",
    "#    subTextTime = file.split(\"/\")\n",
    "#    cv2.putText(npic,subTextTime[5],Tposition,font,fontScale,fontColor,lineType)\n",
    "#    img_array.append(npic)"
   ]
  },
  {
   "cell_type": "code",
   "execution_count": null,
   "metadata": {},
   "outputs": [],
   "source": [
    "size =  (640,512)\n",
    "out = cv2.VideoWriter((experiment+' RGB '+modality+'.avi'),cv2.VideoWriter_fourcc(*'DIVX'), 15, size)\n",
    " \n",
    "for i in range(len(img_array)):\n",
    "    out.write(img_array[i])\n",
    "out.release()"
   ]
  },
  {
   "cell_type": "code",
   "execution_count": null,
   "metadata": {},
   "outputs": [],
   "source": [
    "# Testing for one color image\n",
    "\n",
    "# from matplotlib import pyplot as plt\n",
    "\n",
    "\n",
    "\n",
    "# file = '/home/pnn/experiments/Exp3/2019_10_28_11_01_50_D465_Color/2019_10_28_11_01_58_DS5_4160_3120_Rgb8_Color_AE200.jpg'\n",
    "# img = cv2.imread(file)\n",
    "# print(img.size)\n",
    "\n",
    "# x = 720  # --->3084 ---> w = 2464\n",
    "# y = 805  # --->2115 ---> h = 1725\n",
    "# w = 2464\n",
    "# h = 1800\n",
    "\n",
    "\n",
    "\n",
    "# crop_img = img[y:y+h, x:x+w]\n",
    "\n",
    "# plt.imshow(crop_img)"
   ]
  },
  {
   "cell_type": "code",
   "execution_count": null,
   "metadata": {},
   "outputs": [],
   "source": [
    "5"
   ]
  },
  {
   "cell_type": "code",
   "execution_count": null,
   "metadata": {},
   "outputs": [],
   "source": []
  },
  {
   "cell_type": "code",
   "execution_count": null,
   "metadata": {},
   "outputs": [],
   "source": []
  }
 ],
 "metadata": {
  "kernelspec": {
   "display_name": "Python 3",
   "language": "python",
   "name": "python3"
  },
  "language_info": {
   "codemirror_mode": {
    "name": "ipython",
    "version": 3
   },
   "file_extension": ".py",
   "mimetype": "text/x-python",
   "name": "python",
   "nbconvert_exporter": "python",
   "pygments_lexer": "ipython3",
   "version": "3.7.3"
  }
 },
 "nbformat": 4,
 "nbformat_minor": 4
}

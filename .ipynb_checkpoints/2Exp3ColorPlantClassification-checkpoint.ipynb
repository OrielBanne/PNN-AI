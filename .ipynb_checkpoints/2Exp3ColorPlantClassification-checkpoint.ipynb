{
 "cells": [
  {
   "cell_type": "code",
   "execution_count": 1,
   "metadata": {},
   "outputs": [],
   "source": [
    "import os\n",
    "from glob import glob\n",
    "\n",
    "from matplotlib import pyplot as plt\n",
    "%matplotlib inline\n",
    "from PIL import Image\n",
    "\n",
    "# see all charts inline in the notebook and allow dynamic graph updates\n",
    "import pylab as pl\n",
    "from IPython import display\n",
    "\n",
    "\n",
    "import torch\n",
    "import torch.nn as nn\n",
    "import torch.utils as utils\n",
    "from torch.utils.data import Dataset, DataLoader, SubsetRandomSampler\n",
    "import torch.nn.functional as F\n",
    "import torch.optim as optim\n",
    "\n",
    "from torchvision import transforms\n",
    "\n",
    "from torch.utils.tensorboard import SummaryWriter"
   ]
  },
  {
   "cell_type": "code",
   "execution_count": 2,
   "metadata": {},
   "outputs": [],
   "source": [
    "device = 'cuda' if torch.cuda.is_available() else 'cpu'"
   ]
  },
  {
   "cell_type": "code",
   "execution_count": 3,
   "metadata": {},
   "outputs": [],
   "source": [
    "#pwd   =  Parent working directory\n",
    "experiment ='Exp3'\n",
    "modality = 'Color'      #modalities = ['Boson', '577nm', '732nm', '970nm','692nm','polar','Color']\n",
    "pattern   = '*'+modality+'*.jpg'\n",
    "# pattern   = '*'+modality+'*.tiff'\n",
    "start_dir = '/home/pnn/experiments/'+experiment+'/'"
   ]
  },
  {
   "cell_type": "code",
   "execution_count": 4,
   "metadata": {},
   "outputs": [],
   "source": [
    "#finding files in subdirectories: \n",
    "\n",
    "files = []\n",
    "for dir,_,_ in os.walk(start_dir):\n",
    "    files.extend(glob(os.path.join(dir,pattern)))\n",
    "    #if len(files)==10:  # <--- defining number of images limiter\n",
    "    #    break\n",
    "\n",
    "files=sorted(files)\n"
   ]
  },
  {
   "cell_type": "code",
   "execution_count": 5,
   "metadata": {},
   "outputs": [],
   "source": [
    "from datasets import experiments\n",
    "color_pos = experiments.plant_positions['Exp3'].color_positions"
   ]
  },
  {
   "cell_type": "code",
   "execution_count": 6,
   "metadata": {},
   "outputs": [],
   "source": [
    "def get_image(plant_position,img_len = 255,time_idx = 0):\n",
    "        left = plant_position[0] - img_len // 2\n",
    "        right = plant_position[0] + img_len // 2\n",
    "        top = plant_position[1] - img_len // 2\n",
    "        bottom = plant_position[1] + img_len // 2\n",
    "        \n",
    "        image_path = files[time_idx]\n",
    "\n",
    "        image = Image.open(image_path)\n",
    "        image = image.crop((left, top, right, bottom))\n",
    "\n",
    "        to_tensor = transforms.Compose([transforms.ToTensor(),transforms.Normalize((0.5, 0.5, 0.5), (0.5, 0.5, 0.5))])\n",
    "\n",
    "        return to_tensor(image).float()"
   ]
  },
  {
   "cell_type": "code",
   "execution_count": 7,
   "metadata": {},
   "outputs": [],
   "source": [
    "# Original labels\n",
    "'''Labels = (\n",
    "        3, 11, 6, 5,  4,\n",
    "        3, 11, 6, 5,  4, \n",
    "        3,  4, 6, 5, 11,  \n",
    "        3,  4, 5, 6, 11, \n",
    "        3,  4, 5, 6, 11, \n",
    "        3,  4, 5, 6, 11\n",
    "    )'''\n",
    "\n",
    "Labels = (\n",
    "        0,  4, 3, 2,  1,\n",
    "        0,  4, 3, 2,  1, \n",
    "        0,  1, 3, 2,  4,  \n",
    "        0,  1, 2, 3,  4, \n",
    "        0,  1, 2, 3,  4, \n",
    "        0,  1, 2, 3,  4\n",
    "    )"
   ]
  },
  {
   "cell_type": "code",
   "execution_count": 8,
   "metadata": {},
   "outputs": [],
   "source": [
    "class Net(nn.Module):\n",
    "    def __init__(self):\n",
    "        super(Net, self).__init__()\n",
    "        self.conv1 = nn.Conv2d(3, 6, 5) # (in_channels, out_channels, kernel_size)\n",
    "        self.pool = nn.MaxPool2d(2, 2)  # was 2X2 \n",
    "        self.conv2 = nn.Conv2d(6, 16, 5)\n",
    "        self.fc1 = nn.Linear(16 * 60 * 60, 3600)\n",
    "        self.fc2 = nn.Linear(3600, 84)\n",
    "        self.fc3 = nn.Linear(84, 5) # The last number of nodes should match the number of classes, number of tomato gynotypes\n",
    "\n",
    "    def forward(self, x):\n",
    "        x = self.pool(F.relu(self.conv1(x)))\n",
    "        x = self.pool(F.relu(self.conv2(x)))\n",
    "        x = x.view(-1, 16 * 60 * 60) # linear representation of x (reshape)\n",
    "        x = F.relu(self.fc1(x))\n",
    "        x = F.relu(self.fc2(x))\n",
    "        x = self.fc3(x)\n",
    "        return x\n",
    "\n",
    "\n",
    "net = Net().to(device)"
   ]
  },
  {
   "cell_type": "code",
   "execution_count": 9,
   "metadata": {},
   "outputs": [],
   "source": [
    "criterion = nn.CrossEntropyLoss()\n",
    "\n",
    "lr = 0.001\n",
    "optimizer = optim.SGD(net.parameters(), lr=lr, momentum=0.8)"
   ]
  },
  {
   "cell_type": "markdown",
   "metadata": {},
   "source": [
    "# NOW ALL COLOR IMAGES FROM THE FOLDERS OF EXP3"
   ]
  },
  {
   "cell_type": "code",
   "execution_count": 10,
   "metadata": {},
   "outputs": [],
   "source": [
    "# All Plant Images\n",
    "PlantImages = []\n",
    "for j,image_path in enumerate(files):\n",
    "    # Getting All Plants Images\n",
    "    for i,label in enumerate(Labels):\n",
    "        PlantImages.append(get_image(color_pos[i],time_idx = j))"
   ]
  },
  {
   "cell_type": "code",
   "execution_count": 11,
   "metadata": {},
   "outputs": [],
   "source": [
    "# Genom Labels for all plant images\n",
    "BLabels = []\n",
    "for i in range(len(PlantImages)):\n",
    "    BLabels.append(Labels[i%len(Labels)])"
   ]
  },
  {
   "cell_type": "code",
   "execution_count": 12,
   "metadata": {},
   "outputs": [],
   "source": [
    "PlantIdxes = [idx for idx in range(len(PlantImages))]"
   ]
  },
  {
   "cell_type": "code",
   "execution_count": 13,
   "metadata": {},
   "outputs": [],
   "source": [
    "x_data = torch.stack(PlantImages)\n",
    "y_data = torch.Tensor(BLabels)  #   <---- Labels Tensor\n",
    "\n",
    "dataset = utils.data.TensorDataset(x_data, y_data)\n",
    "dataloader = DataLoader(dataset)"
   ]
  },
  {
   "cell_type": "code",
   "execution_count": 14,
   "metadata": {},
   "outputs": [],
   "source": [
    "plants = [plant for plant in range(len(Labels))]"
   ]
  },
  {
   "cell_type": "code",
   "execution_count": 15,
   "metadata": {},
   "outputs": [
    {
     "name": "stdout",
     "output_type": "stream",
     "text": [
      "[0, 1, 2, 3, 4, 5, 6, 7, 8, 9, 10, 11, 12, 13, 14, 15, 16, 17, 18, 19, 20, 21, 22, 23, 24, 25, 26, 27, 28, 29]\n"
     ]
    }
   ],
   "source": [
    "print(plants)"
   ]
  },
  {
   "cell_type": "code",
   "execution_count": 3,
   "metadata": {},
   "outputs": [
    {
     "ename": "NameError",
     "evalue": "name 'PlantImages' is not defined",
     "output_type": "error",
     "traceback": [
      "\u001b[0;31m---------------------------------------------------------------------------\u001b[0m",
      "\u001b[0;31mNameError\u001b[0m                                 Traceback (most recent call last)",
      "\u001b[0;32m<ipython-input-3-fa260d081c98>\u001b[0m in \u001b[0;36m<module>\u001b[0;34m\u001b[0m\n\u001b[1;32m      1\u001b[0m \u001b[0mAllFramePlants\u001b[0m \u001b[0;34m=\u001b[0m \u001b[0;34m[\u001b[0m\u001b[0;34m]\u001b[0m\u001b[0;34m\u001b[0m\u001b[0;34m\u001b[0m\u001b[0m\n\u001b[0;32m----> 2\u001b[0;31m \u001b[0;32mfor\u001b[0m \u001b[0mi\u001b[0m \u001b[0;32min\u001b[0m \u001b[0mrange\u001b[0m\u001b[0;34m(\u001b[0m\u001b[0mlen\u001b[0m\u001b[0;34m(\u001b[0m\u001b[0mPlantImages\u001b[0m\u001b[0;34m)\u001b[0m\u001b[0;34m)\u001b[0m\u001b[0;34m:\u001b[0m\u001b[0;34m\u001b[0m\u001b[0;34m\u001b[0m\u001b[0m\n\u001b[0m\u001b[1;32m      3\u001b[0m     \u001b[0mAllFramePlants\u001b[0m\u001b[0;34m.\u001b[0m\u001b[0mappend\u001b[0m\u001b[0;34m(\u001b[0m\u001b[0mplants\u001b[0m\u001b[0;34m[\u001b[0m\u001b[0mi\u001b[0m\u001b[0;34m%\u001b[0m\u001b[0mlen\u001b[0m\u001b[0;34m(\u001b[0m\u001b[0mLabels\u001b[0m\u001b[0;34m)\u001b[0m\u001b[0;34m]\u001b[0m\u001b[0;34m)\u001b[0m\u001b[0;34m\u001b[0m\u001b[0;34m\u001b[0m\u001b[0m\n\u001b[1;32m      4\u001b[0m \u001b[0;34m\u001b[0m\u001b[0m\n\u001b[1;32m      5\u001b[0m \u001b[0;31m#print(AllFramePlants)\u001b[0m\u001b[0;34m\u001b[0m\u001b[0;34m\u001b[0m\u001b[0;34m\u001b[0m\u001b[0m\n",
      "\u001b[0;31mNameError\u001b[0m: name 'PlantImages' is not defined"
     ]
    }
   ],
   "source": [
    "AllFramePlants = []\n",
    "for i in range(len(PlantImages)):\n",
    "    AllFramePlants.append(plants[i%len(Labels)])\n",
    "\n",
    "#print(AllFramePlants)"
   ]
  },
  {
   "cell_type": "code",
   "execution_count": 17,
   "metadata": {},
   "outputs": [],
   "source": [
    "test_plants = [1, 2, 7, 29]\n",
    "BPlants =[]\n",
    "for plant in AllFramePlants:\n",
    "    if plant in test_plants:\n",
    "        BPlants.append(1)\n",
    "    else:\n",
    "        BPlants.append(0)"
   ]
  },
  {
   "cell_type": "code",
   "execution_count": 18,
   "metadata": {},
   "outputs": [],
   "source": [
    "#for i,allp in enumerate(AllFramePlants):\n",
    "#    print(PlantIdxes[i],allp,BPlants[i],BLabels[i])"
   ]
  },
  {
   "cell_type": "code",
   "execution_count": 19,
   "metadata": {},
   "outputs": [
    {
     "name": "stdout",
     "output_type": "stream",
     "text": [
      "test_idx  size =  1732 train_idx size =  11258\n",
      "test_idx = \n",
      "[1, 2, 7, 29, 31, 32, 37, 59, 61, 62, 67, 89, 91, 92, 97, 119, 121, 122, 127, 149, 151, 152, 157, 179, 181, 182, 187, 209, 211, 212, 217, 239, 241, 242, 247, 269, 271, 272, 277, 299, 301, 302, 307, 329, 331, 332, 337, 359, 361, 362, 367, 389, 391, 392, 397, 419, 421, 422, 427, 449, 451, 452, 457, 479, 481, 482, 487, 509, 511, 512, 517, 539, 541, 542, 547, 569, 571, 572, 577, 599, 601, 602, 607, 629, 631, 632, 637, 659, 661, 662, 667, 689, 691, 692, 697, 719, 721, 722, 727, 749, 751, 752, 757, 779, 781, 782, 787, 809, 811, 812, 817, 839, 841, 842, 847, 869, 871, 872, 877, 899, 901, 902, 907, 929, 931, 932, 937, 959, 961, 962, 967, 989, 991, 992, 997, 1019, 1021, 1022, 1027, 1049, 1051, 1052, 1057, 1079, 1081, 1082, 1087, 1109, 1111, 1112, 1117, 1139, 1141, 1142, 1147, 1169, 1171, 1172, 1177, 1199, 1201, 1202, 1207, 1229, 1231, 1232, 1237, 1259, 1261, 1262, 1267, 1289, 1291, 1292, 1297, 1319, 1321, 1322, 1327, 1349, 1351, 1352, 1357, 1379, 1381, 1382, 1387, 1409, 1411, 1412, 1417, 1439, 1441, 1442, 1447, 1469, 1471, 1472, 1477, 1499, 1501, 1502, 1507, 1529, 1531, 1532, 1537, 1559, 1561, 1562, 1567, 1589, 1591, 1592, 1597, 1619, 1621, 1622, 1627, 1649, 1651, 1652, 1657, 1679, 1681, 1682, 1687, 1709, 1711, 1712, 1717, 1739, 1741, 1742, 1747, 1769, 1771, 1772, 1777, 1799, 1801, 1802, 1807, 1829, 1831, 1832, 1837, 1859, 1861, 1862, 1867, 1889, 1891, 1892, 1897, 1919, 1921, 1922, 1927, 1949, 1951, 1952, 1957, 1979, 1981, 1982, 1987, 2009, 2011, 2012, 2017, 2039, 2041, 2042, 2047, 2069, 2071, 2072, 2077, 2099, 2101, 2102, 2107, 2129, 2131, 2132, 2137, 2159, 2161, 2162, 2167, 2189, 2191, 2192, 2197, 2219, 2221, 2222, 2227, 2249, 2251, 2252, 2257, 2279, 2281, 2282, 2287, 2309, 2311, 2312, 2317, 2339, 2341, 2342, 2347, 2369, 2371, 2372, 2377, 2399, 2401, 2402, 2407, 2429, 2431, 2432, 2437, 2459, 2461, 2462, 2467, 2489, 2491, 2492, 2497, 2519, 2521, 2522, 2527, 2549, 2551, 2552, 2557, 2579, 2581, 2582, 2587, 2609, 2611, 2612, 2617, 2639, 2641, 2642, 2647, 2669, 2671, 2672, 2677, 2699, 2701, 2702, 2707, 2729, 2731, 2732, 2737, 2759, 2761, 2762, 2767, 2789, 2791, 2792, 2797, 2819, 2821, 2822, 2827, 2849, 2851, 2852, 2857, 2879, 2881, 2882, 2887, 2909, 2911, 2912, 2917, 2939, 2941, 2942, 2947, 2969, 2971, 2972, 2977, 2999, 3001, 3002, 3007, 3029, 3031, 3032, 3037, 3059, 3061, 3062, 3067, 3089, 3091, 3092, 3097, 3119, 3121, 3122, 3127, 3149, 3151, 3152, 3157, 3179, 3181, 3182, 3187, 3209, 3211, 3212, 3217, 3239, 3241, 3242, 3247, 3269, 3271, 3272, 3277, 3299, 3301, 3302, 3307, 3329, 3331, 3332, 3337, 3359, 3361, 3362, 3367, 3389, 3391, 3392, 3397, 3419, 3421, 3422, 3427, 3449, 3451, 3452, 3457, 3479, 3481, 3482, 3487, 3509, 3511, 3512, 3517, 3539, 3541, 3542, 3547, 3569, 3571, 3572, 3577, 3599, 3601, 3602, 3607, 3629, 3631, 3632, 3637, 3659, 3661, 3662, 3667, 3689, 3691, 3692, 3697, 3719, 3721, 3722, 3727, 3749, 3751, 3752, 3757, 3779, 3781, 3782, 3787, 3809, 3811, 3812, 3817, 3839, 3841, 3842, 3847, 3869, 3871, 3872, 3877, 3899, 3901, 3902, 3907, 3929, 3931, 3932, 3937, 3959, 3961, 3962, 3967, 3989, 3991, 3992, 3997, 4019, 4021, 4022, 4027, 4049, 4051, 4052, 4057, 4079, 4081, 4082, 4087, 4109, 4111, 4112, 4117, 4139, 4141, 4142, 4147, 4169, 4171, 4172, 4177, 4199, 4201, 4202, 4207, 4229, 4231, 4232, 4237, 4259, 4261, 4262, 4267, 4289, 4291, 4292, 4297, 4319, 4321, 4322, 4327, 4349, 4351, 4352, 4357, 4379, 4381, 4382, 4387, 4409, 4411, 4412, 4417, 4439, 4441, 4442, 4447, 4469, 4471, 4472, 4477, 4499, 4501, 4502, 4507, 4529, 4531, 4532, 4537, 4559, 4561, 4562, 4567, 4589, 4591, 4592, 4597, 4619, 4621, 4622, 4627, 4649, 4651, 4652, 4657, 4679, 4681, 4682, 4687, 4709, 4711, 4712, 4717, 4739, 4741, 4742, 4747, 4769, 4771, 4772, 4777, 4799, 4801, 4802, 4807, 4829, 4831, 4832, 4837, 4859, 4861, 4862, 4867, 4889, 4891, 4892, 4897, 4919, 4921, 4922, 4927, 4949, 4951, 4952, 4957, 4979, 4981, 4982, 4987, 5009, 5011, 5012, 5017, 5039, 5041, 5042, 5047, 5069, 5071, 5072, 5077, 5099, 5101, 5102, 5107, 5129, 5131, 5132, 5137, 5159, 5161, 5162, 5167, 5189, 5191, 5192, 5197, 5219, 5221, 5222, 5227, 5249, 5251, 5252, 5257, 5279, 5281, 5282, 5287, 5309, 5311, 5312, 5317, 5339, 5341, 5342, 5347, 5369, 5371, 5372, 5377, 5399, 5401, 5402, 5407, 5429, 5431, 5432, 5437, 5459, 5461, 5462, 5467, 5489, 5491, 5492, 5497, 5519, 5521, 5522, 5527, 5549, 5551, 5552, 5557, 5579, 5581, 5582, 5587, 5609, 5611, 5612, 5617, 5639, 5641, 5642, 5647, 5669, 5671, 5672, 5677, 5699, 5701, 5702, 5707, 5729, 5731, 5732, 5737, 5759, 5761, 5762, 5767, 5789, 5791, 5792, 5797, 5819, 5821, 5822, 5827, 5849, 5851, 5852, 5857, 5879, 5881, 5882, 5887, 5909, 5911, 5912, 5917, 5939, 5941, 5942, 5947, 5969, 5971, 5972, 5977, 5999, 6001, 6002, 6007, 6029, 6031, 6032, 6037, 6059, 6061, 6062, 6067, 6089, 6091, 6092, 6097, 6119, 6121, 6122, 6127, 6149, 6151, 6152, 6157, 6179, 6181, 6182, 6187, 6209, 6211, 6212, 6217, 6239, 6241, 6242, 6247, 6269, 6271, 6272, 6277, 6299, 6301, 6302, 6307, 6329, 6331, 6332, 6337, 6359, 6361, 6362, 6367, 6389, 6391, 6392, 6397, 6419, 6421, 6422, 6427, 6449, 6451, 6452, 6457, 6479, 6481, 6482, 6487, 6509, 6511, 6512, 6517, 6539, 6541, 6542, 6547, 6569, 6571, 6572, 6577, 6599, 6601, 6602, 6607, 6629, 6631, 6632, 6637, 6659, 6661, 6662, 6667, 6689, 6691, 6692, 6697, 6719, 6721, 6722, 6727, 6749, 6751, 6752, 6757, 6779, 6781, 6782, 6787, 6809, 6811, 6812, 6817, 6839, 6841, 6842, 6847, 6869, 6871, 6872, 6877, 6899, 6901, 6902, 6907, 6929, 6931, 6932, 6937, 6959, 6961, 6962, 6967, 6989, 6991, 6992, 6997, 7019, 7021, 7022, 7027, 7049, 7051, 7052, 7057, 7079, 7081, 7082, 7087, 7109, 7111, 7112, 7117, 7139, 7141, 7142, 7147, 7169, 7171, 7172, 7177, 7199, 7201, 7202, 7207, 7229, 7231, 7232, 7237, 7259, 7261, 7262, 7267, 7289, 7291, 7292, 7297, 7319, 7321, 7322, 7327, 7349, 7351, 7352, 7357, 7379, 7381, 7382, 7387, 7409, 7411, 7412, 7417, 7439, 7441, 7442, 7447, 7469, 7471, 7472, 7477, 7499, 7501, 7502, 7507, 7529, 7531, 7532, 7537, 7559, 7561, 7562, 7567, 7589, 7591, 7592, 7597, 7619, 7621, 7622, 7627, 7649, 7651, 7652, 7657, 7679, 7681, 7682, 7687, 7709, 7711, 7712, 7717, 7739, 7741, 7742, 7747, 7769, 7771, 7772, 7777, 7799, 7801, 7802, 7807, 7829, 7831, 7832, 7837, 7859, 7861, 7862, 7867, 7889, 7891, 7892, 7897, 7919, 7921, 7922, 7927, 7949, 7951, 7952, 7957, 7979, 7981, 7982, 7987, 8009, 8011, 8012, 8017, 8039, 8041, 8042, 8047, 8069, 8071, 8072, 8077, 8099, 8101, 8102, 8107, 8129, 8131, 8132, 8137, 8159, 8161, 8162, 8167, 8189, 8191, 8192, 8197, 8219, 8221, 8222, 8227, 8249, 8251, 8252, 8257, 8279, 8281, 8282, 8287, 8309, 8311, 8312, 8317, 8339, 8341, 8342, 8347, 8369, 8371, 8372, 8377, 8399, 8401, 8402, 8407, 8429, 8431, 8432, 8437, 8459, 8461, 8462, 8467, 8489, 8491, 8492, 8497, 8519, 8521, 8522, 8527, 8549, 8551, 8552, 8557, 8579, 8581, 8582, 8587, 8609, 8611, 8612, 8617, 8639, 8641, 8642, 8647, 8669, 8671, 8672, 8677, 8699, 8701, 8702, 8707, 8729, 8731, 8732, 8737, 8759, 8761, 8762, 8767, 8789, 8791, 8792, 8797, 8819, 8821, 8822, 8827, 8849, 8851, 8852, 8857, 8879, 8881, 8882, 8887, 8909, 8911, 8912, 8917, 8939, 8941, 8942, 8947, 8969, 8971, 8972, 8977, 8999, 9001, 9002, 9007, 9029, 9031, 9032, 9037, 9059, 9061, 9062, 9067, 9089, 9091, 9092, 9097, 9119, 9121, 9122, 9127, 9149, 9151, 9152, 9157, 9179, 9181, 9182, 9187, 9209, 9211, 9212, 9217, 9239, 9241, 9242, 9247, 9269, 9271, 9272, 9277, 9299, 9301, 9302, 9307, 9329, 9331, 9332, 9337, 9359, 9361, 9362, 9367, 9389, 9391, 9392, 9397, 9419, 9421, 9422, 9427, 9449, 9451, 9452, 9457, 9479, 9481, 9482, 9487, 9509, 9511, 9512, 9517, 9539, 9541, 9542, 9547, 9569, 9571, 9572, 9577, 9599, 9601, 9602, 9607, 9629, 9631, 9632, 9637, 9659, 9661, 9662, 9667, 9689, 9691, 9692, 9697, 9719, 9721, 9722, 9727, 9749, 9751, 9752, 9757, 9779, 9781, 9782, 9787, 9809, 9811, 9812, 9817, 9839, 9841, 9842, 9847, 9869, 9871, 9872, 9877, 9899, 9901, 9902, 9907, 9929, 9931, 9932, 9937, 9959, 9961, 9962, 9967, 9989, 9991, 9992, 9997, 10019, 10021, 10022, 10027, 10049, 10051, 10052, 10057, 10079, 10081, 10082, 10087, 10109, 10111, 10112, 10117, 10139, 10141, 10142, 10147, 10169, 10171, 10172, 10177, 10199, 10201, 10202, 10207, 10229, 10231, 10232, 10237, 10259, 10261, 10262, 10267, 10289, 10291, 10292, 10297, 10319, 10321, 10322, 10327, 10349, 10351, 10352, 10357, 10379, 10381, 10382, 10387, 10409, 10411, 10412, 10417, 10439, 10441, 10442, 10447, 10469, 10471, 10472, 10477, 10499, 10501, 10502, 10507, 10529, 10531, 10532, 10537, 10559, 10561, 10562, 10567, 10589, 10591, 10592, 10597, 10619, 10621, 10622, 10627, 10649, 10651, 10652, 10657, 10679, 10681, 10682, 10687, 10709, 10711, 10712, 10717, 10739, 10741, 10742, 10747, 10769, 10771, 10772, 10777, 10799, 10801, 10802, 10807, 10829, 10831, 10832, 10837, 10859, 10861, 10862, 10867, 10889, 10891, 10892, 10897, 10919, 10921, 10922, 10927, 10949, 10951, 10952, 10957, 10979, 10981, 10982, 10987, 11009, 11011, 11012, 11017, 11039, 11041, 11042, 11047, 11069, 11071, 11072, 11077, 11099, 11101, 11102, 11107, 11129, 11131, 11132, 11137, 11159, 11161, 11162, 11167, 11189, 11191, 11192, 11197, 11219, 11221, 11222, 11227, 11249, 11251, 11252, 11257, 11279, 11281, 11282, 11287, 11309, 11311, 11312, 11317, 11339, 11341, 11342, 11347, 11369, 11371, 11372, 11377, 11399, 11401, 11402, 11407, 11429, 11431, 11432, 11437, 11459, 11461, 11462, 11467, 11489, 11491, 11492, 11497, 11519, 11521, 11522, 11527, 11549, 11551, 11552, 11557, 11579, 11581, 11582, 11587, 11609, 11611, 11612, 11617, 11639, 11641, 11642, 11647, 11669, 11671, 11672, 11677, 11699, 11701, 11702, 11707, 11729, 11731, 11732, 11737, 11759, 11761, 11762, 11767, 11789, 11791, 11792, 11797, 11819, 11821, 11822, 11827, 11849, 11851, 11852, 11857, 11879, 11881, 11882, 11887, 11909, 11911, 11912, 11917, 11939, 11941, 11942, 11947, 11969, 11971, 11972, 11977, 11999, 12001, 12002, 12007, 12029, 12031, 12032, 12037, 12059, 12061, 12062, 12067, 12089, 12091, 12092, 12097, 12119, 12121, 12122, 12127, 12149, 12151, 12152, 12157, 12179, 12181, 12182, 12187, 12209, 12211, 12212, 12217, 12239, 12241, 12242, 12247, 12269, 12271, 12272, 12277, 12299, 12301, 12302, 12307, 12329, 12331, 12332, 12337, 12359, 12361, 12362, 12367, 12389, 12391, 12392, 12397, 12419, 12421, 12422, 12427, 12449, 12451, 12452, 12457, 12479, 12481, 12482, 12487, 12509, 12511, 12512, 12517, 12539, 12541, 12542, 12547, 12569, 12571, 12572, 12577, 12599, 12601, 12602, 12607, 12629, 12631, 12632, 12637, 12659, 12661, 12662, 12667, 12689, 12691, 12692, 12697, 12719, 12721, 12722, 12727, 12749, 12751, 12752, 12757, 12779, 12781, 12782, 12787, 12809, 12811, 12812, 12817, 12839, 12841, 12842, 12847, 12869, 12871, 12872, 12877, 12899, 12901, 12902, 12907, 12929, 12931, 12932, 12937, 12959, 12961, 12962, 12967, 12989]\n"
     ]
    }
   ],
   "source": [
    "test_idx = []\n",
    "train_idx = []\n",
    "for idx,plant in enumerate(PlantIdxes):\n",
    "    test_num = plant*BPlants[idx]\n",
    "    if test_num !=0:\n",
    "        test_idx.append(idx)\n",
    "    else:\n",
    "        train_idx.append(idx)\n",
    "            \n",
    "\n",
    "print('test_idx  size = ',len(test_idx),'train_idx size = ',len(train_idx))\n",
    "print('test_idx = ')\n",
    "print(test_idx)"
   ]
  },
  {
   "cell_type": "code",
   "execution_count": 20,
   "metadata": {},
   "outputs": [],
   "source": [
    "BATCH_SIZE = 4\n",
    "# CLASSES = (3, 4, 5, 6, 11)\n",
    "CLASSES = (0, 1, 2, 3, 4)"
   ]
  },
  {
   "cell_type": "code",
   "execution_count": 21,
   "metadata": {},
   "outputs": [],
   "source": [
    "train_loader = torch.utils.data.DataLoader(dataset, batch_size=BATCH_SIZE, sampler=SubsetRandomSampler(train_idx))\n",
    "test_loader = torch.utils.data.DataLoader(dataset, batch_size=BATCH_SIZE, sampler=SubsetRandomSampler(test_idx))"
   ]
  },
  {
   "cell_type": "code",
   "execution_count": 22,
   "metadata": {},
   "outputs": [
    {
     "name": "stdout",
     "output_type": "stream",
     "text": [
      "Train Loader Weight Size: torch.Size([4, 3, 254, 254])\n",
      "Train Loader Bias   Size: torch.Size([4])\n",
      "Train Size: 11258\n",
      "Test Size: 1732\n"
     ]
    }
   ],
   "source": [
    "print('Train Loader Weight Size:', iter(train_loader).next()[0].size())\n",
    "print('Train Loader Bias   Size:', iter(train_loader).next()[1].size())\n",
    "\n",
    "print('Train Size:', len(train_idx))\n",
    "print('Test Size:', len(test_idx))"
   ]
  },
  {
   "cell_type": "code",
   "execution_count": 23,
   "metadata": {},
   "outputs": [
    {
     "data": {
      "image/png": "[encoded data removed]",
      "text/plain": [
       "<Figure size 432x288 with 1 Axes>"
      ]
     },
     "metadata": {},
     "output_type": "display_data"
    },
    {
     "name": "stdout",
     "output_type": "stream",
     "text": [
      "Finished Training\n"
     ]
    },
    {
     "data": {
      "image/png": "[encoded data removed]",
      "text/plain": [
       "<Figure size 432x288 with 1 Axes>"
      ]
     },
     "metadata": {
      "needs_background": "light"
     },
     "output_type": "display_data"
    }
   ],
   "source": [
    "Tot_Loss = []\n",
    "Accuracy = []\n",
    "sizeTrain = len(train_loader)\n",
    "MaxEpochs = 30\n",
    "\n",
    "for epoch in range(MaxEpochs):  # loop over the dataset multiple times\n",
    "    \n",
    "    epoch_loss = 0\n",
    "    running_loss = 0.0\n",
    "    \n",
    "    # Dynamic Learning Rate\n",
    "    # adjust_learning_rate(optimizer, epoch)\n",
    "    \n",
    "    print('epoch = ', epoch, end = ' ')\n",
    "    for i, data in enumerate(train_loader):\n",
    "        # get the inputs; data is a list of [inputs, labels]\n",
    "        inputs, labels = data\n",
    "        # print('inputs.shape = ',inputs.shape )\n",
    "        labels = torch.Tensor.long(labels).to(device)\n",
    "        inputs = inputs.to(device)\n",
    "        # print('labels  = ',labels)\n",
    "\n",
    "        # zero the parameter gradients\n",
    "        optimizer.zero_grad()\n",
    "\n",
    "        # forward + backward + optimize\n",
    "        outputs = net(inputs)\n",
    "        loss = criterion(outputs, labels)\n",
    "        # print(' LOSS   = ',loss)\n",
    "        loss.backward()\n",
    "        optimizer.step()\n",
    "\n",
    "        \n",
    "        # print statistics\n",
    "        running_loss += loss.item()\n",
    "        \n",
    "        if i % 100 == 0:\n",
    "            print('.', end ='')\n",
    "\n",
    "    epoch_loss = running_loss/sizeTrain\n",
    "    Tot_Loss.append(epoch_loss)\n",
    "    \n",
    "    # Computing Accuracy on Test Data:\n",
    "    \n",
    "    correct = 0\n",
    "    total = 0\n",
    "    #print('test_loader len = ',len(test_loader))\n",
    "    with torch.no_grad():\n",
    "        for index, val_data in enumerate(test_loader):  # index runs up to 8 and jumps to 300 thereafter\n",
    "            #print('index  = ', index, end='  ')\n",
    "            val_images, val_labels = val_data\n",
    "            val_labels = torch.Tensor.long(val_labels).to(device)\n",
    "            val_images = val_images.to(device)\n",
    "            #print('val_labels  ', val_labels, end='  ')\n",
    "            val_outputs = net(val_images)\n",
    "            stam, predicted = torch.max(val_outputs.data, 1)\n",
    "            #print('softmax result =',stam)\n",
    "            #print('PlantIdxes   = ',val_idx, end='  ')\n",
    "            #print(' predicted =',predicted)\n",
    "            total += val_labels.size(0)\n",
    "            temp = (predicted == val_labels)\n",
    "            correct +=  1*temp[0].item()+1*temp[1].item()+1*temp[2].item()+1*temp[3].item()\n",
    "            \n",
    "    Accuracy.append(correct / total)\n",
    "    \n",
    "    # Dynamic plotting\n",
    "    pl.clf()\n",
    "    pl.plot(Tot_Loss,'.r', label='Loss curve')\n",
    "    pl.plot(Accuracy,'.b', label='Accuracy')\n",
    "    pl.xlabel('Epochs (100ds)')\n",
    "    pl.ylabel('Loss')\n",
    "    pl.ylim([0.0, 1.0])\n",
    "    pl.xlim([-2.0, MaxEpochs+5.0])\n",
    "    pl.legend(loc=\"upper right\")\n",
    "    display.clear_output(wait=False)\n",
    "    display.display(pl.gcf())\n",
    "        \n",
    "print('Finished Training')"
   ]
  },
  {
   "cell_type": "code",
   "execution_count": 24,
   "metadata": {},
   "outputs": [
    {
     "name": "stdout",
     "output_type": "stream",
     "text": [
      "Accuracy type is:  <class 'float'>\n",
      "correct type is:  <class 'int'>\n",
      "total type is:  <class 'int'>\n"
     ]
    }
   ],
   "source": [
    "print('Accuracy type is: ',type(Accuracy[0]))\n",
    "print('correct type is: ',type(correct))\n",
    "print('total type is: ',type(total))"
   ]
  },
  {
   "cell_type": "code",
   "execution_count": 28,
   "metadata": {},
   "outputs": [
    {
     "name": "stdout",
     "output_type": "stream",
     "text": [
      "256\n"
     ]
    }
   ],
   "source": [
    "print(correct)"
   ]
  },
  {
   "cell_type": "code",
   "execution_count": null,
   "metadata": {},
   "outputs": [],
   "source": [
    "print(val_labels)"
   ]
  },
  {
   "cell_type": "code",
   "execution_count": null,
   "metadata": {},
   "outputs": [],
   "source": [
    "print(predicted == val_labels)"
   ]
  },
  {
   "cell_type": "code",
   "execution_count": null,
   "metadata": {},
   "outputs": [],
   "source": [
    "aaa= (predicted == val_labels)"
   ]
  },
  {
   "cell_type": "code",
   "execution_count": null,
   "metadata": {},
   "outputs": [],
   "source": [
    "aaa"
   ]
  },
  {
   "cell_type": "code",
   "execution_count": null,
   "metadata": {},
   "outputs": [],
   "source": [
    "aaa[0].item()*aaa[1].item()*aaa[2].item()*aaa[3].item()*1"
   ]
  },
  {
   "cell_type": "code",
   "execution_count": 29,
   "metadata": {},
   "outputs": [
    {
     "name": "stdout",
     "output_type": "stream",
     "text": [
      "1732\n"
     ]
    }
   ],
   "source": [
    "print(total)"
   ]
  },
  {
   "cell_type": "code",
   "execution_count": 30,
   "metadata": {},
   "outputs": [
    {
     "name": "stdout",
     "output_type": "stream",
     "text": [
      "[NbConvertApp] Converting notebook 2Exp3ColorPlantClassification.ipynb to python\n",
      "[NbConvertApp] Writing 8718 bytes to 2Exp3ColorPlantClassification.py\n"
     ]
    }
   ],
   "source": [
    " !jupyter nbconvert --to python 2Exp3ColorPlantClassification.ipynb"
   ]
  },
  {
   "cell_type": "code",
   "execution_count": 1,
   "metadata": {},
   "outputs": [],
   "source": [
    "labels = (\n",
    "        3, 11, 6, 5, 4,\n",
    "        3, 11, 6, 5, 4,\n",
    "        3, 4, 6, 5, 11,\n",
    "        3, 4, 5, 6, 11,\n",
    "        3, 4, 5, 6, 11,\n",
    "        3, 4, 5, 6, 11\n",
    "    )"
   ]
  },
  {
   "cell_type": "code",
   "execution_count": 12,
   "metadata": {},
   "outputs": [],
   "source": [
    "import numpy as  np"
   ]
  },
  {
   "cell_type": "code",
   "execution_count": 17,
   "metadata": {},
   "outputs": [],
   "source": [
    "class_numbers   =  [3, 4, 5, 6, 11]\n",
    "new_class_enumeration  =  [0, 1, 2, 3, 4]"
   ]
  },
  {
   "cell_type": "code",
   "execution_count": 9,
   "metadata": {},
   "outputs": [],
   "source": [
    "targets   =  [3, 11, 6, 5, 4, 3, 11, 6, 5, 4, 3, 4, 6, 5, 11, 3, 4, 5, 6, 11, 3, 4, 5, 6, 11, 3, 4, 5, 6, 11, 3, 11, 6, 5, 4, 3, 11, 6, 5, 4, 3, 4, 6, 5, 11, 3, 4, 5, 6, 11, 3, 4, 5, 6, 11, 3, 4, 5, 6, 11, 3, 11, 6, 5, 4, 3, 11, 6, 5, 4, 3, 4, 6, 5, 11, 3, 4, 5, 6, 11, 3, 4, 5, 6, 11, 3, 4, 5, 6, 11, 3, 11, 6, 5, 4, 3, 11, 6, 5, 4, 3, 4, 6, 5, 11, 3, 4, 5, 6, 11, 3, 4, 5, 6, 11, 3, 4, 5, 6, 11, 3, 11, 6, 5, 4, 3, 11, 6, 5, 4, 3, 4, 6, 5, 11, 3, 4, 5, 6, 11, 3, 4, 5, 6, 11, 3, 4, 5, 6, 11, 3, 11, 6, 5, 4, 3, 11, 6, 5, 4, 3, 4, 6, 5, 11, 3, 4, 5, 6, 11, 3, 4, 5, 6, 11, 3, 4, 5, 6, 11, 3, 11, 6, 5, 4, 3, 11, 6, 5, 4, 3, 4, 6, 5, 11, 3, 4, 5, 6, 11, 3, 4, 5, 6, 11, 3, 4, 5, 6, 11]"
   ]
  },
  {
   "cell_type": "code",
   "execution_count": 22,
   "metadata": {},
   "outputs": [
    {
     "data": {
      "text/plain": [
       "{3: 0, 4: 1, 5: 2, 6: 3, 11: 4}"
      ]
     },
     "execution_count": 22,
     "metadata": {},
     "output_type": "execute_result"
    }
   ],
   "source": [
    "rev = dict(zip(class_numbers, new_class_enumeration))\n",
    "rev"
   ]
  },
  {
   "cell_type": "code",
   "execution_count": 25,
   "metadata": {},
   "outputs": [
    {
     "data": {
      "text/plain": [
       "[0,\n",
       " 4,\n",
       " 3,\n",
       " 2,\n",
       " 1,\n",
       " 0,\n",
       " 4,\n",
       " 3,\n",
       " 2,\n",
       " 1,\n",
       " 0,\n",
       " 1,\n",
       " 3,\n",
       " 2,\n",
       " 4,\n",
       " 0,\n",
       " 1,\n",
       " 2,\n",
       " 3,\n",
       " 4,\n",
       " 0,\n",
       " 1,\n",
       " 2,\n",
       " 3,\n",
       " 4,\n",
       " 0,\n",
       " 1,\n",
       " 2,\n",
       " 3,\n",
       " 4,\n",
       " 0,\n",
       " 4,\n",
       " 3,\n",
       " 2,\n",
       " 1,\n",
       " 0,\n",
       " 4,\n",
       " 3,\n",
       " 2,\n",
       " 1,\n",
       " 0,\n",
       " 1,\n",
       " 3,\n",
       " 2,\n",
       " 4,\n",
       " 0,\n",
       " 1,\n",
       " 2,\n",
       " 3,\n",
       " 4,\n",
       " 0,\n",
       " 1,\n",
       " 2,\n",
       " 3,\n",
       " 4,\n",
       " 0,\n",
       " 1,\n",
       " 2,\n",
       " 3,\n",
       " 4,\n",
       " 0,\n",
       " 4,\n",
       " 3,\n",
       " 2,\n",
       " 1,\n",
       " 0,\n",
       " 4,\n",
       " 3,\n",
       " 2,\n",
       " 1,\n",
       " 0,\n",
       " 1,\n",
       " 3,\n",
       " 2,\n",
       " 4,\n",
       " 0,\n",
       " 1,\n",
       " 2,\n",
       " 3,\n",
       " 4,\n",
       " 0,\n",
       " 1,\n",
       " 2,\n",
       " 3,\n",
       " 4,\n",
       " 0,\n",
       " 1,\n",
       " 2,\n",
       " 3,\n",
       " 4,\n",
       " 0,\n",
       " 4,\n",
       " 3,\n",
       " 2,\n",
       " 1,\n",
       " 0,\n",
       " 4,\n",
       " 3,\n",
       " 2,\n",
       " 1,\n",
       " 0,\n",
       " 1,\n",
       " 3,\n",
       " 2,\n",
       " 4,\n",
       " 0,\n",
       " 1,\n",
       " 2,\n",
       " 3,\n",
       " 4,\n",
       " 0,\n",
       " 1,\n",
       " 2,\n",
       " 3,\n",
       " 4,\n",
       " 0,\n",
       " 1,\n",
       " 2,\n",
       " 3,\n",
       " 4,\n",
       " 0,\n",
       " 4,\n",
       " 3,\n",
       " 2,\n",
       " 1,\n",
       " 0,\n",
       " 4,\n",
       " 3,\n",
       " 2,\n",
       " 1,\n",
       " 0,\n",
       " 1,\n",
       " 3,\n",
       " 2,\n",
       " 4,\n",
       " 0,\n",
       " 1,\n",
       " 2,\n",
       " 3,\n",
       " 4,\n",
       " 0,\n",
       " 1,\n",
       " 2,\n",
       " 3,\n",
       " 4,\n",
       " 0,\n",
       " 1,\n",
       " 2,\n",
       " 3,\n",
       " 4,\n",
       " 0,\n",
       " 4,\n",
       " 3,\n",
       " 2,\n",
       " 1,\n",
       " 0,\n",
       " 4,\n",
       " 3,\n",
       " 2,\n",
       " 1,\n",
       " 0,\n",
       " 1,\n",
       " 3,\n",
       " 2,\n",
       " 4,\n",
       " 0,\n",
       " 1,\n",
       " 2,\n",
       " 3,\n",
       " 4,\n",
       " 0,\n",
       " 1,\n",
       " 2,\n",
       " 3,\n",
       " 4,\n",
       " 0,\n",
       " 1,\n",
       " 2,\n",
       " 3,\n",
       " 4,\n",
       " 0,\n",
       " 4,\n",
       " 3,\n",
       " 2,\n",
       " 1,\n",
       " 0,\n",
       " 4,\n",
       " 3,\n",
       " 2,\n",
       " 1,\n",
       " 0,\n",
       " 1,\n",
       " 3,\n",
       " 2,\n",
       " 4,\n",
       " 0,\n",
       " 1,\n",
       " 2,\n",
       " 3,\n",
       " 4,\n",
       " 0,\n",
       " 1,\n",
       " 2,\n",
       " 3,\n",
       " 4,\n",
       " 0,\n",
       " 1,\n",
       " 2,\n",
       " 3,\n",
       " 4]"
      ]
     },
     "execution_count": 25,
     "metadata": {},
     "output_type": "execute_result"
    }
   ],
   "source": [
    "new_targets = [rev.get(item,item)  for item in targets]\n",
    "new_targets"
   ]
  },
  {
   "cell_type": "code",
   "execution_count": 27,
   "metadata": {},
   "outputs": [
    {
     "data": {
      "text/plain": [
       "4"
      ]
     },
     "execution_count": 27,
     "metadata": {},
     "output_type": "execute_result"
    }
   ],
   "source": [
    "new_targets[19]"
   ]
  },
  {
   "cell_type": "code",
   "execution_count": null,
   "metadata": {},
   "outputs": [],
   "source": []
  }
 ],
 "metadata": {
  "kernelspec": {
   "display_name": "Python 3",
   "language": "python",
   "name": "python3"
  },
  "language_info": {
   "codemirror_mode": {
    "name": "ipython",
    "version": 3
   },
   "file_extension": ".py",
   "mimetype": "text/x-python",
   "name": "python",
   "nbconvert_exporter": "python",
   "pygments_lexer": "ipython3",
   "version": "3.7.3"
  }
 },
 "nbformat": 4,
 "nbformat_minor": 2
}
